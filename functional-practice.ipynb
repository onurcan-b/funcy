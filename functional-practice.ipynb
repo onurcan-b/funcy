{
 "cells": [
  {
   "cell_type": "markdown",
   "id": "0e65a80f-2524-4971-82ab-468d5ad64548",
   "metadata": {},
   "source": [
    "# Functional Python Practice\n",
    "\n",
    "This notebook is a series of exercises designed to give you practice with the concepts of functional programming in Python.\n",
    "\n",
    "Like the testing PA, this assignment lends itself to very short answers, and using Generative AI defeats the purpose. \n",
    "\n",
    "**The use of Gen AI is prohibted.**\n",
    "\n",
    "Make a best effort attempt at each of these, it is OK for a few to be imperfect. I am glad to share solutions after the assignment is turned in.\n",
    "\n",
    "Each assignment has a few non-comprehensive test cases.\n",
    "For extra practice, see if you can find an edge case or two where you pass the tests but still have issues in your solution.\n",
    "\n",
    "Onurcan Buyukkalkan"
   ]
  },
  {
   "cell_type": "code",
   "execution_count": 59,
   "id": "283eacc8-5574-4c36-8583-38920fdd17a3",
   "metadata": {},
   "outputs": [],
   "source": [
    "from typing import Iterable, Generator\n",
    "import string\n",
    "import functools"
   ]
  },
  {
   "cell_type": "markdown",
   "id": "21cad652-5670-4696-9af3-d0eab9975d26",
   "metadata": {},
   "source": [
    "## 1. filter\n",
    "\n",
    "Use `filter` to complete this function. You may write a helper function, or use a lambda.\n",
    "\n",
    "**You may not use a loop.**\n"
   ]
  },
  {
   "cell_type": "code",
   "execution_count": 60,
   "id": "770930b1-ce87-4ca6-bfe9-320a7b191afc",
   "metadata": {},
   "outputs": [],
   "source": [
    "def longer_than(words: str, n: int) -> Iterable[str]:\n",
    "    \"\"\" returns iterable of words longer than n characters \"\"\"\n",
    "    return (filter(lambda word: len(word) > n, words))"
   ]
  },
  {
   "cell_type": "code",
   "execution_count": 61,
   "id": "6a68286c-c0ca-40c7-aae8-cc6b2792d46f",
   "metadata": {},
   "outputs": [
    {
     "name": "stdout",
     "output_type": "stream",
     "text": [
      "Success!\n"
     ]
    }
   ],
   "source": [
    "animals = [\"ape\", \"bear\", \"boar\", \"tiger\", \"zebra\", \"hippopotamus\", \"cat\"]\n",
    "result = list(longer_than(animals, 5))\n",
    "assert result == [\"hippopotamus\"], f\"bad response: {result}\"\n",
    "\n",
    "result = list(longer_than(animals, 0))\n",
    "assert result == animals, f\"bad response: {result}\"\n",
    "\n",
    "result = list(longer_than(animals, 100))\n",
    "assert result == [], f\"bad response: {result}\"\n",
    "\n",
    "print(\"Success!\")"
   ]
  },
  {
   "cell_type": "markdown",
   "id": "6296d6d9-a089-48ba-a059-f2d65513d1bc",
   "metadata": {},
   "source": []
  },
  {
   "cell_type": "markdown",
   "id": "deb89e75-75cc-44b2-a2ba-fd1c174afb79",
   "metadata": {},
   "source": [
    "## 2. map\n",
    "\n",
    "Use `map` to complete this function. \n",
    "\n",
    "**You may not use a loop.**\n",
    "\n",
    "\n",
    "For an extra challenge, you can implement that helper function without using a loop as well."
   ]
  },
  {
   "cell_type": "code",
   "execution_count": 62,
   "id": "6dabeaee-8ce5-476c-9d32-5ae255766e2d",
   "metadata": {},
   "outputs": [],
   "source": [
    "\n",
    "def remove_punctuation(word: str) -> str:\n",
    "    return \"\".join(ch for ch in word if ch not in string.punctuation)\n",
    "    \n",
    "def without_punctuation(words: list[str]) -> Iterable[str]:\n",
    "    \"\"\" returns words with all punctuation stripped out \"\"\"\n",
    "    return (map(remove_punctuation, words))"
   ]
  },
  {
   "cell_type": "code",
   "execution_count": 63,
   "id": "cfe90aca-4000-440b-8e04-cfb94f855251",
   "metadata": {},
   "outputs": [
    {
     "name": "stdout",
     "output_type": "stream",
     "text": [
      "Success!!\n"
     ]
    }
   ],
   "source": [
    "result = list(without_punctuation([\"abc\"])) \n",
    "assert result == [\"abc\"], f\"{result}\"\n",
    "\n",
    "result = list(without_punctuation([\"a.b.c\"]))\n",
    "assert result == [\"abc\"], f\"{result}\"\n",
    "\n",
    "result = list(without_punctuation([\"a.b.c\", \"def?\", \"g#h!i?\"])) \n",
    "assert result == [\"abc\", \"def\", \"ghi\"], f\"{result}\"\n",
    "\n",
    "print(\"Success!!\")"
   ]
  },
  {
   "cell_type": "markdown",
   "id": "78a36eb8-c872-49ae-b241-2e2fab51183f",
   "metadata": {},
   "source": [
    "## 3. partial\n",
    "\n",
    "Take a look at the helper function `remove_punctuation` -- it seems like it'd make sense to have a function `remove_chars(s: str, chars: str) -> str` that is more flexible.\n",
    "\n",
    "But doing so would mean that the function is no longer `f(str) -> str` and not suitable for use with `map`!\n",
    "\n",
    "This is a perfect application of `partial`, below please do the following:\n",
    "\n",
    "1. Implement `remove_chars`\n",
    "2. Use `remove_chars` with `functools.partial` to implement `without_chars"
   ]
  },
  {
   "cell_type": "code",
   "execution_count": 64,
   "id": "8679af8a-f5c1-4975-be43-1a2562cf6c6f",
   "metadata": {},
   "outputs": [],
   "source": [
    "def remove_chars(word: str, chars: str) -> str:\n",
    "    \"\"\"\n",
    "    Return a new string that is the original string \"s\" without any characters that appear in \"chars\"\n",
    "    \"\"\"\n",
    "    return \"\".join(ch for ch in word if ch not in chars)\n",
    "\n",
    "def without_chars(words: list[str], chars: str) -> Iterable[str]:\n",
    "    \"\"\" returns words with all punctuation stripped out \"\"\"\n",
    "    no_punctuation = functools.partial(remove_chars, chars=chars)\n",
    "    return (map(no_punctuation, words))"
   ]
  },
  {
   "cell_type": "code",
   "execution_count": 65,
   "id": "2b465227-e13e-4892-b788-2fb86b7831b6",
   "metadata": {},
   "outputs": [
    {
     "name": "stdout",
     "output_type": "stream",
     "text": [
      "Success!!!\n"
     ]
    }
   ],
   "source": [
    "result = list(without_chars([\"abc\"], \"a\")) \n",
    "assert result == [\"bc\"], f\"bad result: {result}\"\n",
    "\n",
    "result = list(without_chars([\"abc\", \"banana\"], \"ab\")) \n",
    "assert result == [\"c\", \"nn\"], f\"bad result: {result}\"\n",
    "\n",
    "result = list(without_chars([\"a.b.c\", \"def?\", \"g#h!i?\"], string.punctuation)) \n",
    "assert result == [\"abc\", \"def\", \"ghi\"], f\"bad result: {result}\"\n",
    "\n",
    "print(\"Success!!!\")"
   ]
  },
  {
   "cell_type": "code",
   "execution_count": null,
   "id": "f54a7dfb-be77-4893-9b36-91c296b90656",
   "metadata": {},
   "outputs": [],
   "source": []
  },
  {
   "cell_type": "markdown",
   "id": "ff557037-c99d-4d71-9890-43a466a069f5",
   "metadata": {},
   "source": [
    "## 4. Generator Warm-up\n",
    "\n",
    "Write a generator function that yields each word in a string backwards, one at a time. \n",
    "\n",
    "The function must **yield** not return.\n",
    "You may again use a for loop."
   ]
  },
  {
   "cell_type": "code",
   "execution_count": 66,
   "id": "71336b99-deb3-49f1-a7d2-56eafea55cc0",
   "metadata": {},
   "outputs": [],
   "source": [
    "def flip_each_word(sentence: str) -> Generator[str, None, None]:\n",
    "    \"\"\"\n",
    "    For a string like: \"Hello functional world\" this generator yields:\n",
    "        - olleH\n",
    "        - lanoitcnuf\n",
    "        - dlrow\n",
    "    \"\"\"\n",
    "    for word in sentence.split():\n",
    "        yield word[::-1]\n",
    "\n",
    "    #Do I need to check if sentence has one word or empty?\n",
    "    #What would happen if I passed an empty string to this function?\n"
   ]
  },
  {
   "cell_type": "code",
   "execution_count": 67,
   "id": "deebf538-2def-4bab-8983-63e85d996b70",
   "metadata": {},
   "outputs": [],
   "source": [
    "g = flip_each_word(\"Hello functional world\")"
   ]
  },
  {
   "cell_type": "code",
   "execution_count": 68,
   "id": "3c4aba77-cd37-408c-b2d9-8d2dd4bba4fc",
   "metadata": {},
   "outputs": [
    {
     "name": "stdout",
     "output_type": "stream",
     "text": [
      "Success!!!!\n"
     ]
    }
   ],
   "source": [
    "# the built in \"next\" function takes one value at a time from the generator\n",
    "word = next(g)\n",
    "assert word == \"olleH\", f\"got {word}\"\n",
    "word = next(g)\n",
    "assert word == \"lanoitcnuf\", f\"got {word}\"\n",
    "word = next(g)\n",
    "assert word == \"dlrow\", f\"got {word}\"\n",
    "\n",
    "print(\"Success!!!!\")"
   ]
  },
  {
   "cell_type": "code",
   "execution_count": null,
   "id": "0248f647-9c08-4f65-a792-21b3df4d769e",
   "metadata": {},
   "outputs": [],
   "source": []
  },
  {
   "cell_type": "markdown",
   "id": "36f28ae0-b6db-4f0c-bb95-040fbecd38b5",
   "metadata": {},
   "source": [
    "## 5. Generator Pipeline\n",
    "\n",
    "Write a series of generators to make this pipeline work.\n",
    "\n",
    "Note that this pipeline does not follow all recommendations given in class,\n",
    "For instance, we go from str->dict->dict->str->str here to demonstrate some ideas."
   ]
  },
  {
   "cell_type": "code",
   "execution_count": 69,
   "id": "fcb061dd-1046-4b5b-997a-4a8e6c0e3c52",
   "metadata": {},
   "outputs": [],
   "source": [
    "def infinite_animals() -> Generator[str, None, None]:\n",
    "    \"\"\" \n",
    "    This is an infinite generator.\n",
    "\n",
    "    The final step in the pipeline will terminate the loop, this function can be left as-is.\n",
    "    \"\"\"\n",
    "    while True:\n",
    "        yield from animals"
   ]
  },
  {
   "cell_type": "code",
   "execution_count": 70,
   "id": "8e9f3421-9aa5-477b-a988-6be498cb4a90",
   "metadata": {},
   "outputs": [],
   "source": [
    "def upper_case(inputs: Iterable[str]) -> Generator[str, None, None]:\n",
    "    \"\"\" takes a generator of strings and converts all strings to upper case \"\"\"\n",
    "    for item in inputs:\n",
    "        yield item.upper()"
   ]
  },
  {
   "cell_type": "code",
   "execution_count": 71,
   "id": "ce6db4d7-91a7-411c-854a-20a7b4e30345",
   "metadata": {},
   "outputs": [],
   "source": [
    "def attach_length(inputs: Iterable[str]) -> Generator[dict, None, None]:\n",
    "    \"\"\" takes a generator of strings and converts each string s to {\"data\": s, \"len\": len(s)} \"\"\"\n",
    "    for item in inputs:\n",
    "        yield {\"data\": item, \"len\": len(item)}\n",
    "\n",
    "# What is the point of this function?\n",
    "#   This demonstrates a common concept of augmenting data during traversal through the pipeline with metadata.\n",
    "#   In this case, we could have just called len(s) later in the pipeline, but if this was a more expensive calculation.\n",
    "#   It'd make sense to store it on the object as it traverses the pipeline.\n",
    "#.  To demonstrate this value, the next function in the pipeline is not allowed to call len.\n"
   ]
  },
  {
   "cell_type": "code",
   "execution_count": 72,
   "id": "69d82348-916f-4862-98d8-ae116a9f958c",
   "metadata": {},
   "outputs": [],
   "source": [
    "def threshold_pass(inputs: Iterable[dict], threshold: int) -> Generator[str, None, None]:\n",
    "    \"\"\" \n",
    "    Takes an iterable of {\"data\": s, \"len\": len(s)} and yields all strings that are longer\n",
    "    than threshold.\n",
    "\n",
    "    This method may not call `len` -- see notes on `attach_length` for explanation of what we're mimicking here.\n",
    "    \"\"\"\n",
    "    for item in inputs:\n",
    "        if item[\"len\"] > threshold:\n",
    "            yield item[\"data\"]"
   ]
  },
  {
   "cell_type": "code",
   "execution_count": 73,
   "id": "9f918ef0-c390-4ca5-a4f8-c28e21bed6e3",
   "metadata": {},
   "outputs": [],
   "source": [
    "def run_pipeline(inputs: Iterable[str], length_threshold: int, max_elements: int) -> Generator[str, None, None]:\n",
    "    \"\"\"\n",
    "    This function should run your pipeline, it should take the form:\n",
    "\n",
    "    for x in f(g(h(...))):\n",
    "        ...\n",
    "        yield x\n",
    "        ...\n",
    "\n",
    "    Where f/g/h/etc. are the generator functions you just wrote above.\n",
    "\n",
    "    The function should break out of the loop once max_elements have been processed.\n",
    "\n",
    "    Parameters:\n",
    "     - inputs -> iterable of strings to process\n",
    "     - length_threshold -> threshold for threshold_pass\n",
    "     - max_elements -> quit after this many elements, even if there are more inputs to process\n",
    "    \"\"\"\n",
    "    for i, x in enumerate(\n",
    "        upper_case(\n",
    "            threshold_pass(\n",
    "                attach_length(inputs),\n",
    "                length_threshold\n",
    "        )), start=1):\n",
    "        yield x\n",
    "        if i >= max_elements:\n",
    "            break\n",
    "#did I have to use infinite_animals() here? I just noticed \n",
    "#that I didn't need it. "
   ]
  },
  {
   "cell_type": "code",
   "execution_count": 74,
   "id": "f056b96a-2aeb-4321-b837-56836db4d364",
   "metadata": {},
   "outputs": [
    {
     "name": "stdout",
     "output_type": "stream",
     "text": [
      "Success!!!!!\n"
     ]
    }
   ],
   "source": [
    "result = list(run_pipeline([\"abc\", \"defghi\", \"jk\", \"lmnop\", \"qrs\", \"tuvwxyz\"] , 4, 100)) # process whole list\n",
    "assert result == ['DEFGHI', 'LMNOP', 'TUVWXYZ'], f\"bad result {result}\"\n",
    "\n",
    "result = list(run_pipeline(animals , 4, 2)) # limit to only 2 results\n",
    "assert result == ['TIGER', 'ZEBRA'], f\"bad result {result}\"\n",
    "\n",
    "result = list(run_pipeline(infinite_animals() , 4, 6)) # avoid infinite loop!\n",
    "assert result == ['TIGER', 'ZEBRA', \"HIPPOPOTAMUS\"] * 2, f\"bad result {result}\"\n",
    "\n",
    "print(\"Success!!!!!\")"
   ]
  },
  {
   "cell_type": "code",
   "execution_count": null,
   "id": "dc57aa27-cc78-4573-b67c-c0a0f737f503",
   "metadata": {},
   "outputs": [],
   "source": []
  },
  {
   "cell_type": "code",
   "execution_count": null,
   "id": "bee86492-f716-4e9e-8842-0bb859af6160",
   "metadata": {},
   "outputs": [],
   "source": []
  },
  {
   "cell_type": "code",
   "execution_count": null,
   "id": "56a37ab7-b9a2-4a17-bfb4-fa67171100e8",
   "metadata": {},
   "outputs": [],
   "source": []
  }
 ],
 "metadata": {
  "kernelspec": {
   "display_name": "base",
   "language": "python",
   "name": "python3"
  },
  "language_info": {
   "codemirror_mode": {
    "name": "ipython",
    "version": 3
   },
   "file_extension": ".py",
   "mimetype": "text/x-python",
   "name": "python",
   "nbconvert_exporter": "python",
   "pygments_lexer": "ipython3",
   "version": "3.12.8"
  }
 },
 "nbformat": 4,
 "nbformat_minor": 5
}
